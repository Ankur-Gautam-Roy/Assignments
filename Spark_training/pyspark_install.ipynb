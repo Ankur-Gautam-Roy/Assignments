{
 "cells": [
  {
   "cell_type": "code",
   "execution_count": 1,
   "metadata": {},
   "outputs": [
    {
     "name": "stdout",
     "output_type": "stream",
     "text": [
      "root\n",
      " |-- Address: string (nullable = true)\n",
      " |-- Amount: string (nullable = true)\n",
      " |-- Contribution Mode: string (nullable = true)\n",
      " |-- Financial Year: string (nullable = true)\n",
      " |-- Name: string (nullable = true)\n",
      " |-- PAN Given: string (nullable = true)\n",
      " |-- Party: string (nullable = true)\n",
      " |-- Type: string (nullable = true)\n",
      " |-- _corrupt_record: string (nullable = true)\n",
      " |-- field10: string (nullable = true)\n",
      " |-- field11: string (nullable = true)\n",
      " |-- field12: string (nullable = true)\n",
      " |-- field13: string (nullable = true)\n",
      " |-- field14: string (nullable = true)\n",
      " |-- field9: string (nullable = true)\n",
      "\n"
     ]
    }
   ],
   "source": [
    "import pyspark as spark\n",
    "import json\n",
    "from pyspark.sql import SparkSession\n",
    "\n",
    "spark = SparkSession.builder.getOrCreate()\n",
    "\n",
    "df = spark.read.json(\"donation_np.json\").limit(1000)\n",
    "df.printSchema()\n",
    "\n",
    "\n",
    "# df.show()\n"
   ]
  },
  {
   "cell_type": "code",
   "execution_count": 2,
   "metadata": {},
   "outputs": [
    {
     "name": "stdout",
     "output_type": "stream",
     "text": [
      "root\n",
      " |-- Address: string (nullable = true)\n",
      " |-- Amount: string (nullable = true)\n",
      " |-- mode_of_payment: string (nullable = true)\n",
      " |-- fin_year: string (nullable = true)\n",
      " |-- Name: string (nullable = true)\n",
      " |-- pan_given: string (nullable = true)\n",
      " |-- Party: string (nullable = true)\n",
      " |-- Type: string (nullable = true)\n",
      " |-- _corrupt_record: string (nullable = true)\n",
      " |-- field10: string (nullable = true)\n",
      " |-- field11: string (nullable = true)\n",
      " |-- field12: string (nullable = true)\n",
      " |-- field13: string (nullable = true)\n",
      " |-- field14: string (nullable = true)\n",
      " |-- field9: string (nullable = true)\n",
      "\n"
     ]
    }
   ],
   "source": [
    "#Renaming the columns\n",
    "\n",
    "df = df.withColumnRenamed(\"Contribution Mode\",\"mode_of_payment\").withColumnRenamed(\"Financial Year\",\"fin_year\").withColumnRenamed(\"PAN Given\",\"pan_given\")\n",
    "df.printSchema()\n",
    "\n"
   ]
  },
  {
   "cell_type": "code",
   "execution_count": 3,
   "metadata": {},
   "outputs": [],
   "source": [
    "#Encryting the columns\n",
    "\n",
    "from pyspark import SparkConf, SparkContext, SQLContext\n",
    "\n",
    "import hashlib\n",
    "\n",
    "def encrypt_address(Address):\n",
    "    sha_value = hashlib.sha256(Address.encode()).hexdigest()\n",
    "    return sha_value"
   ]
  },
  {
   "cell_type": "code",
   "execution_count": 4,
   "metadata": {},
   "outputs": [],
   "source": [
    "from pyspark.sql.functions import sha2, concat_ws\n",
    "df = df.withColumn(\"Address\", sha2(concat_ws(\"||\",df.Address),256))\n",
    "\n",
    "# df.show(truncate=False)\n",
    "\n"
   ]
  },
  {
   "cell_type": "code",
   "execution_count": 5,
   "metadata": {},
   "outputs": [],
   "source": [
    "df = df.na.drop(subset = [\"Name\"])\n",
    "# df.show()"
   ]
  },
  {
   "cell_type": "code",
   "execution_count": 6,
   "metadata": {},
   "outputs": [],
   "source": [
    "#categorizing \n",
    "from pyspark.sql.functions import when,col\n",
    "\n",
    "df = df.withColumn(\n",
    "    \"mode_of_payment\",\n",
    "    when(col(\"mode_of_payment\").like(\"%CASH%\"),\"CASH\")\\\n",
    "    .when(col(\"mode_of_payment\").like(\"%Bank%\"),\"BANK\")\\\n",
    "    .when(col(\"mode_of_payment\").like(\"Ch%\"),\"CHEQUE\").otherwise(\"Other\")\n",
    ")\n",
    "\n"
   ]
  },
  {
   "cell_type": "code",
   "execution_count": 7,
   "metadata": {},
   "outputs": [],
   "source": [
    "#Typecasting amount to int\n",
    "from pyspark.sql.types import IntegerType\n",
    "\n",
    "\n",
    "df = df.withColumn(\"Amount\",df.Amount.cast(IntegerType()))\n",
    "\n",
    "\n"
   ]
  },
  {
   "cell_type": "markdown",
   "metadata": {},
   "source": []
  },
  {
   "cell_type": "code",
   "execution_count": 8,
   "metadata": {},
   "outputs": [],
   "source": [
    "from pyspark.sql.functions import *\n",
    "\n",
    "#SUM\n",
    "CPI_sum = df.where(df.Party == \"CPI\").select(sum(\"Amount\")).first()[\"sum(Amount)\"]\n",
    "BJP_sum = df.where(df.Party == \"BJP\").select(sum(\"Amount\")).first()[\"sum(Amount)\"]\n",
    "INC_sum = df.where(df.Party == \"INC\").select(sum(\"Amount\")).first()[\"sum(Amount)\"]\n",
    "NCP_sum = df.where(df.Party == \"NCP\").select(sum(\"Amount\")).first()[\"sum(Amount)\"]\n",
    "CPIM_sum = df.where(df.Party == \"CPI(M)\").select(sum(\"Amount\")).first()[\"sum(Amount)\"]\n",
    "\n",
    "df = df.withColumn(\"INC_CPI_SUM\",when(df.Party == \"CPI\",CPI_sum).otherwise(0))\\\n",
    ".withColumn(\"INC_BJP_SUM\",when(df.Party == \"BJP\",BJP_sum).otherwise(0))\\\n",
    ".withColumn(\"INC_INC_SUM\",when(df.Party == \"INC\",INC_sum).otherwise(0))\\\n",
    ".withColumn(\"INC_NCP_SUM\",when(df.Party == \"NCP\",NCP_sum).otherwise(0))\\\n",
    ".withColumn(\"INC_NCP_SUM\",when(df.Party == \"CPI(M)\",CPIM_sum).otherwise(0))\n",
    "\n",
    "\n",
    "\n",
    "\n",
    "# #AVERAGE\n",
    "# CPI_avg = df.where(df.Party == \"CPI\").select(avg(\"Amount\")).collect()\n",
    "# BJP_avg = df.where(df.Party == \"BJP\").select(avg(\"Amount\")).collect()\n",
    "# INC_avg = df.where(df.Party == \"INC\").select(avg(\"Amount\")).collect()\n",
    "# NCP_avg = df.where(df.Party == \"NCP\").select(avg(\"Amount\")).collect()\n",
    "# CPIM_avg = df.where(df.Party == \"CPI(M)\").select(avg(\"Amount\")).collect()\n",
    "# print(CPI_avg)\n",
    "# print(BJP_avg)\n",
    "# print(INC_avg)\n",
    "# print(NCP_avg)\n",
    "# print(CPIM_avg)\n",
    "\n",
    "# #MAX\n",
    "\n",
    "#\n",
    "# print(df.where(df.Party == \"CPI\").select(max(\"Amount\")).collect())\n",
    "# print(df.where(df.Party == \"BJP\").select(max(\"Amount\")).collect())\n",
    "# print(df.where(df.Party == \"INC\").select(max(\"Amount\")).collect())\n",
    "# print(df.where(df.Party == \"NCP\").select(max(\"Amount\")).collect())\n",
    "# print(df.where(df.Party == \"CPI(M)\").select(max(\"Amount\")).collect())\n"
   ]
  },
  {
   "cell_type": "code",
   "execution_count": 9,
   "metadata": {},
   "outputs": [],
   "source": [
    "\n",
    "#COUNT\n",
    "\n",
    "CPI_count = df.where(df.Party == \"CPI\").count()\n",
    "BJP_count = df.where(df.Party == \"BJP\").count()\n",
    "INC_count = df.where(df.Party == \"INC\").count()\n",
    "NCP_count = df.where(df.Party == \"NCP\").count()\n",
    "CPIM_count = df.where(df.Party == \"CPI(M)\").count()\n",
    "df = df.withColumn(\"INC_CPI_count\",when(df.Party == \"CPI\",CPI_count).otherwise(0))\\\n",
    ".withColumn(\"INC_BJP_count\",when(df.Party == \"BJP\",BJP_count).otherwise(0))\\\n",
    ".withColumn(\"INC_INC_count\",when(df.Party == \"INC\",INC_count).otherwise(0))\\\n",
    ".withColumn(\"INC_NCP_count\",when(df.Party == \"NCP\",NCP_count).otherwise(0))\\\n",
    ".withColumn(\"INC_NCP_count\",when(df.Party == \"CPI(M)\",CPIM_count).otherwise(0))"
   ]
  },
  {
   "cell_type": "code",
   "execution_count": 10,
   "metadata": {},
   "outputs": [],
   "source": [
    "aggregate_values = df.groupby(\"Party\").agg(max(\"Amount\"),count(\"Amount\"),sum(\"Amount\"),avg(\"Amount\"))"
   ]
  },
  {
   "cell_type": "code",
   "execution_count": 14,
   "metadata": {},
   "outputs": [
    {
     "name": "stdout",
     "output_type": "stream",
     "text": [
      "Ashok Commercial Enterprises\n",
      "A.V.Patil Foundation\n",
      "A 2 Z online  Services Pvt.Ltd\n",
      "Aziz Pasha\n",
      "V K Ramachandran\n"
     ]
    }
   ],
   "source": [
    "top_donor_bjp = df.filter((df.Party == \"BJP\") & (df.Amount == aggregate_values.collect()[3][1]))\n",
    "top_donor_inc = df.filter((df.Party == \"INC\") & (df.Amount == aggregate_values.collect()[2][1]))\n",
    "top_donor_ncp = df.filter((df.Party == \"NCP\") & (df.Amount == aggregate_values.collect()[4][1]))\n",
    "top_donor_cpi = df.filter((df.Party == \"CPI\") & (df.Amount == aggregate_values.collect()[0][1]))\n",
    "top_donor_cpim = df.filter((df.Party == \"CPI(M)\") & (df.Amount == aggregate_values.collect()[1][1]))\n",
    "print(top_donor_bjp.first()[\"Name\"])\n",
    "print(top_donor_inc.first()[\"Name\"])\n",
    "print(top_donor_ncp.first()[\"Name\"])\n",
    "print(top_donor_cpi.first()[\"Name\"])\n",
    "print(top_donor_cpim.first()[\"Name\"])\n",
    "\n",
    "party_fin_year = df.groupBy(\"Party\",\"fin_year\").agg(sum(\"Amount\"))\n",
    "\n",
    "# \n",
    "\n",
    "\n",
    "\n"
   ]
  },
  {
   "cell_type": "code",
   "execution_count": null,
   "metadata": {},
   "outputs": [],
   "source": []
  },
  {
   "cell_type": "code",
   "execution_count": 16,
   "metadata": {},
   "outputs": [
    {
     "name": "stdout",
     "output_type": "stream",
     "text": [
      "+--------------------+--------+---------------+--------+--------------------+---------+------+------+---------------+-------+-------+-------+-------+-------+------+-----------+-----------+-----------+-----------+-------------+-------------+-------------+-------------+---------------+------------------+---------------+---------------+---------------+---------------+---------------+---------------+---------------+---------------+---------------+---------------+---------------+---------------+------------------+------------------+------------------+---------------+---------------+---------------+---------------+---------------+---------------+---------------+---------------+---------------+---------------+---------------+------------------+---------------+---------------+---------------+---------------+------------------+---------------+---------------+---------------+---------------+---------------+---------------+---------------+------------------+---------------+------------------+---------------+---------------+\n",
      "|             Address|  Amount|mode_of_payment|fin_year|                Name|pan_given| Party|  Type|_corrupt_record|field10|field11|field12|field13|field14|field9|INC_CPI_SUM|INC_BJP_SUM|INC_INC_SUM|INC_NCP_SUM|INC_CPI_count|INC_BJP_count|INC_INC_count|INC_NCP_count|2010-11_CPI_SUM|2014-15_CPI(M)_SUM|2014-15_INC_SUM|2011-12_INC_SUM|2011-12_BJP_SUM|2013-14_BJP_SUM|2013-14_INC_SUM|2004-05_BJP_SUM|2012-13_BJP_SUM|2008-09_BJP_SUM|2014-15_BJP_SUM|2009-10_INC_SUM|2009-10_CPI_SUM|2010-11_INC_SUM|2013-14_CPI(M)_SUM|2010-11_CPI(M)_SUM|2011-12_CPI(M)_SUM|2005-06_CPI_SUM|2007-08_CPI_SUM|2006-07_CPI_SUM|2008-09_CPI_SUM|2004-05_CPI_SUM|2003-04_CPI_SUM|2011-12_CPI_SUM|2012-13_CPI_SUM|2014-15_CPI_SUM|2013-14_CPI_SUM|2003-04_INC_SUM|2012-13_CPI(M)_SUM|2004-05_INC_SUM|2014-15_NCP_SUM|2009-10_BJP_SUM|2003-04_BJP_SUM|2006-07_CPI(M)_SUM|2006-07_BJP_SUM|2010-11_BJP_SUM|2008-09_INC_SUM|2007-08_BJP_SUM|2005-06_INC_SUM|2005-06_BJP_SUM|2013-14_NCP_SUM|2007-08_CPI(M)_SUM|2008-09_NCP_SUM|2009-10_CPI(M)_SUM|2007-08_INC_SUM|2012-13_INC_SUM|\n",
      "+--------------------+--------+---------------+--------+--------------------+---------+------+------+---------------+-------+-------+-------+-------+-------+------+-----------+-----------+-----------+-----------+-------------+-------------+-------------+-------------+---------------+------------------+---------------+---------------+---------------+---------------+---------------+---------------+---------------+---------------+---------------+---------------+---------------+---------------+------------------+------------------+------------------+---------------+---------------+---------------+---------------+---------------+---------------+---------------+---------------+---------------+---------------+---------------+------------------+---------------+---------------+---------------+---------------+------------------+---------------+---------------+---------------+---------------+---------------+---------------+---------------+------------------+---------------+------------------+---------------+---------------+\n",
      "|5a3058deb6f337958...| 3000000|           CASH| 2010-11|          Aziz Pasha|        Y|   CPI|Others|           null|       |       |       |       |       |      |   21163211|          0|          0|          0|           78|            0|            0|            0|        5300000|                 0|              0|              0|              0|              0|              0|              0|              0|              0|              0|              0|              0|              0|                 0|                 0|                 0|              0|              0|              0|              0|              0|              0|              0|              0|              0|              0|              0|                 0|              0|              0|              0|              0|                 0|              0|              0|              0|              0|              0|              0|              0|                 0|              0|                 0|              0|              0|\n",
      "|846539cb21bc9e6c6...|10000000|           BANK| 2014-15|    V K Ramachandran|        Y|CPI(M)|Others|           null|       |       |       |       |       |      |          0|          0|          0|   19108534|            0|            0|            0|           35|              0|          11675000|              0|              0|              0|              0|              0|              0|              0|              0|              0|              0|              0|              0|                 0|                 0|                 0|              0|              0|              0|              0|              0|              0|              0|              0|              0|              0|              0|                 0|              0|              0|              0|              0|                 0|              0|              0|              0|              0|              0|              0|              0|                 0|              0|                 0|              0|              0|\n",
      "|869fa3a19f1c51ad1...|  108000|           BANK| 2014-15|  Dr. Manmohan Singh|        N|   INC|Others|           null|       |       |       |       |       |      |          0|          0|  133710530|          0|            0|            0|          206|            0|              0|                 0|        7960000|              0|              0|              0|              0|              0|              0|              0|              0|              0|              0|              0|                 0|                 0|                 0|              0|              0|              0|              0|              0|              0|              0|              0|              0|              0|              0|                 0|              0|              0|              0|              0|                 0|              0|              0|              0|              0|              0|              0|              0|                 0|              0|                 0|              0|              0|\n",
      "|5f04f40130569ddab...|   54000|           BANK| 2011-12| Dr. Manda Jagnathan|        N|   INC|Others|           null|       |       |       |       |       |      |          0|          0|  133710530|          0|            0|            0|          206|            0|              0|                 0|              0|        6010000|              0|              0|              0|              0|              0|              0|              0|              0|              0|              0|                 0|                 0|                 0|              0|              0|              0|              0|              0|              0|              0|              0|              0|              0|              0|                 0|              0|              0|              0|              0|                 0|              0|              0|              0|              0|              0|              0|              0|                 0|              0|                 0|              0|              0|\n",
      "|524b1379d08e4c02f...|   54000|           BANK| 2011-12|    Prof. K.V.Thomas|        N|   INC|Others|           null|       |       |       |       |       |      |          0|          0|  133710530|          0|            0|            0|          206|            0|              0|                 0|              0|        6010000|              0|              0|              0|              0|              0|              0|              0|              0|              0|              0|                 0|                 0|                 0|              0|              0|              0|              0|              0|              0|              0|              0|              0|              0|              0|                 0|              0|              0|              0|              0|                 0|              0|              0|              0|              0|              0|              0|              0|                 0|              0|                 0|              0|              0|\n",
      "|6db7af0c5dca3b333...|  100000|          Other| 2011-12|     Sweta Chyouksey|        Y|   BJP|Others|           null|       |       |       |       |       |      |          0|  387722907|          0|          0|            0|          665|            0|            0|              0|                 0|              0|              0|       16880002|              0|              0|              0|              0|              0|              0|              0|              0|              0|                 0|                 0|                 0|              0|              0|              0|              0|              0|              0|              0|              0|              0|              0|              0|                 0|              0|              0|              0|              0|                 0|              0|              0|              0|              0|              0|              0|              0|                 0|              0|                 0|              0|              0|\n",
      "|c01158e07376c3778...|  100000|          Other| 2011-12|   Uma Shankar Gupta|        N|   BJP|Others|           null|       |       |       |       |       |      |          0|  387722907|          0|          0|            0|          665|            0|            0|              0|                 0|              0|              0|       16880002|              0|              0|              0|              0|              0|              0|              0|              0|              0|                 0|                 0|                 0|              0|              0|              0|              0|              0|              0|              0|              0|              0|              0|              0|                 0|              0|              0|              0|              0|                 0|              0|              0|              0|              0|              0|              0|              0|                 0|              0|                 0|              0|              0|\n",
      "|d8156bae0c4243d37...|   25000|           BANK| 2013-14|Parshwanath Bhakt...|        N|   BJP|Others|           null|       |       |       |       |       |      |          0|  387722907|          0|          0|            0|          665|            0|            0|              0|                 0|              0|              0|              0|       64487100|              0|              0|              0|              0|              0|              0|              0|              0|                 0|                 0|                 0|              0|              0|              0|              0|              0|              0|              0|              0|              0|              0|              0|                 0|              0|              0|              0|              0|                 0|              0|              0|              0|              0|              0|              0|              0|                 0|              0|                 0|              0|              0|\n",
      "|15c64efe58b209e20...|  100000|          Other| 2011-12|Anand Constructio...|        Y|   BJP|Others|           null|       |       |       |       |       |      |          0|  387722907|          0|          0|            0|          665|            0|            0|              0|                 0|              0|              0|       16880002|              0|              0|              0|              0|              0|              0|              0|              0|              0|                 0|                 0|                 0|              0|              0|              0|              0|              0|              0|              0|              0|              0|              0|              0|                 0|              0|              0|              0|              0|                 0|              0|              0|              0|              0|              0|              0|              0|                 0|              0|                 0|              0|              0|\n",
      "|c8087c832dde2a1c4...|   54000|           BANK| 2013-14|       Kamal Kashore|        N|   INC|Others|           null|       |       |       |       |       |      |          0|          0|  133710530|          0|            0|            0|          206|            0|              0|                 0|              0|              0|              0|              0|       57118500|              0|              0|              0|              0|              0|              0|              0|                 0|                 0|                 0|              0|              0|              0|              0|              0|              0|              0|              0|              0|              0|              0|                 0|              0|              0|              0|              0|                 0|              0|              0|              0|              0|              0|              0|              0|                 0|              0|                 0|              0|              0|\n",
      "|9f2ba6981e36ea0fc...|  100000|           BANK| 2004-05|          R.V Pandit|        N|   BJP|Others|           null|       |       |       |       |       |      |          0|  387722907|          0|          0|            0|          665|            0|            0|              0|                 0|              0|              0|              0|              0|              0|       20288000|              0|              0|              0|              0|              0|              0|                 0|                 0|                 0|              0|              0|              0|              0|              0|              0|              0|              0|              0|              0|              0|                 0|              0|              0|              0|              0|                 0|              0|              0|              0|              0|              0|              0|              0|                 0|              0|                 0|              0|              0|\n",
      "|d8156bae0c4243d37...|  100000|          Other| 2012-13|      A & T Infracon|        N|   BJP|Others|           null|       |       |       |       |       |      |          0|  387722907|          0|          0|            0|          665|            0|            0|              0|                 0|              0|              0|              0|              0|              0|              0|       28349001|              0|              0|              0|              0|              0|                 0|                 0|                 0|              0|              0|              0|              0|              0|              0|              0|              0|              0|              0|              0|                 0|              0|              0|              0|              0|                 0|              0|              0|              0|              0|              0|              0|              0|                 0|              0|                 0|              0|              0|\n",
      "|9ed075605230cbb74...|  300000|           BANK| 2008-09|A 2 Z online  Ser...|        N|   BJP|Others|           null|       |       |       |       |       |      |          0|  387722907|          0|          0|            0|          665|            0|            0|              0|                 0|              0|              0|              0|              0|              0|              0|              0|       23435691|              0|              0|              0|              0|                 0|                 0|                 0|              0|              0|              0|              0|              0|              0|              0|              0|              0|              0|              0|                 0|              0|              0|              0|              0|                 0|              0|              0|              0|              0|              0|              0|              0|                 0|              0|                 0|              0|              0|\n",
      "|4bc59ca1c387bfd59...|  200000|           BANK| 2008-09|A 2 Z online  Ser...|        N|   BJP|Others|           null|       |       |       |       |       |      |          0|  387722907|          0|          0|            0|          665|            0|            0|              0|                 0|              0|              0|              0|              0|              0|              0|              0|       23435691|              0|              0|              0|              0|                 0|                 0|                 0|              0|              0|              0|              0|              0|              0|              0|              0|              0|              0|              0|                 0|              0|              0|              0|              0|                 0|              0|              0|              0|              0|              0|              0|              0|                 0|              0|                 0|              0|              0|\n",
      "|4bc59ca1c387bfd59...|  200000|           BANK| 2008-09|A 2 Z online  Ser...|        N|   BJP|Others|           null|       |       |       |       |       |      |          0|  387722907|          0|          0|            0|          665|            0|            0|              0|                 0|              0|              0|              0|              0|              0|              0|              0|       23435691|              0|              0|              0|              0|                 0|                 0|                 0|              0|              0|              0|              0|              0|              0|              0|              0|              0|              0|              0|                 0|              0|              0|              0|              0|                 0|              0|              0|              0|              0|              0|              0|              0|                 0|              0|                 0|              0|              0|\n",
      "|d8156bae0c4243d37...|  125000|           BANK| 2012-13|A B Rolling Mills...|        N|   BJP|Others|           null|       |       |       |       |       |      |          0|  387722907|          0|          0|            0|          665|            0|            0|              0|                 0|              0|              0|              0|              0|              0|              0|       28349001|              0|              0|              0|              0|              0|                 0|                 0|                 0|              0|              0|              0|              0|              0|              0|              0|              0|              0|              0|              0|                 0|              0|              0|              0|              0|                 0|              0|              0|              0|              0|              0|              0|              0|                 0|              0|                 0|              0|              0|\n",
      "|a68f3334fbfbdf18b...|  100000|           BANK| 2011-12|           A C Dixit|        N|   BJP|Others|           null|       |       |       |       |       |      |          0|  387722907|          0|          0|            0|          665|            0|            0|              0|                 0|              0|              0|       16880002|              0|              0|              0|              0|              0|              0|              0|              0|              0|                 0|                 0|                 0|              0|              0|              0|              0|              0|              0|              0|              0|              0|              0|              0|                 0|              0|              0|              0|              0|                 0|              0|              0|              0|              0|              0|              0|              0|                 0|              0|                 0|              0|              0|\n",
      "|e9552141c8f9ab365...|  100000|           BANK| 2014-15|        A D Builders|        Y|   BJP|Others|           null|       |       |       |       |       |      |          0|  387722907|          0|          0|            0|          665|            0|            0|              0|                 0|              0|              0|              0|              0|              0|              0|              0|              0|      186864211|              0|              0|              0|                 0|                 0|                 0|              0|              0|              0|              0|              0|              0|              0|              0|              0|              0|              0|                 0|              0|              0|              0|              0|                 0|              0|              0|              0|              0|              0|              0|              0|                 0|              0|                 0|              0|              0|\n",
      "|d8156bae0c4243d37...|   21000|          Other| 2012-13|               A Fox|        N|   BJP|Others|           null|       |       |       |       |       |      |          0|  387722907|          0|          0|            0|          665|            0|            0|              0|                 0|              0|              0|              0|              0|              0|              0|       28349001|              0|              0|              0|              0|              0|                 0|                 0|                 0|              0|              0|              0|              0|              0|              0|              0|              0|              0|              0|              0|                 0|              0|              0|              0|              0|                 0|              0|              0|              0|              0|              0|              0|              0|                 0|              0|                 0|              0|              0|\n",
      "|6f87e5d7cdf08271c...|  100000|           BANK| 2009-10|A Mahendra Jewellers|        Y|   INC|Others|           null|       |       |       |       |       |      |          0|          0|  133710530|          0|            0|            0|          206|            0|              0|                 0|              0|              0|              0|              0|              0|              0|              0|              0|              0|       30392500|              0|              0|                 0|                 0|                 0|              0|              0|              0|              0|              0|              0|              0|              0|              0|              0|              0|                 0|              0|              0|              0|              0|                 0|              0|              0|              0|              0|              0|              0|              0|                 0|              0|                 0|              0|              0|\n",
      "+--------------------+--------+---------------+--------+--------------------+---------+------+------+---------------+-------+-------+-------+-------+-------+------+-----------+-----------+-----------+-----------+-------------+-------------+-------------+-------------+---------------+------------------+---------------+---------------+---------------+---------------+---------------+---------------+---------------+---------------+---------------+---------------+---------------+---------------+------------------+------------------+------------------+---------------+---------------+---------------+---------------+---------------+---------------+---------------+---------------+---------------+---------------+---------------+------------------+---------------+---------------+---------------+---------------+------------------+---------------+---------------+---------------+---------------+---------------+---------------+---------------+------------------+---------------+------------------+---------------+---------------+\n",
      "only showing top 20 rows\n",
      "\n"
     ]
    }
   ],
   "source": [
    "\n",
    "\n",
    "for i,j,k in party_fin_year.select(\"Party\",\"fin_year\",\"sum(Amount)\").collect():\n",
    "     df = df.withColumn(\"{}_{}_SUM\".format(j,i),when( (df.Party == \"{}\".format(i)) & (df.fin_year == \"{}\".format(j)) ,lit(k) ).otherwise(lit(0)))\n",
    "    \n",
    "# df.show()"
   ]
  },
  {
   "cell_type": "code",
   "execution_count": 17,
   "metadata": {},
   "outputs": [
    {
     "name": "stdout",
     "output_type": "stream",
     "text": [
      "+---------------+----------------------+\n",
      "|mode_of_payment|count(mode_of_payment)|\n",
      "+---------------+----------------------+\n",
      "|           CASH|                     5|\n",
      "|           BANK|                   573|\n",
      "|          Other|                   322|\n",
      "|         CHEQUE|                    91|\n",
      "+---------------+----------------------+\n",
      "\n"
     ]
    }
   ],
   "source": [
    "df.groupBy('mode_of_payment').agg(count(\"mode_of_payment\")).show()"
   ]
  }
 ],
 "metadata": {
  "kernelspec": {
   "display_name": "Python 3.9.13 64-bit",
   "language": "python",
   "name": "python3"
  },
  "language_info": {
   "codemirror_mode": {
    "name": "ipython",
    "version": 3
   },
   "file_extension": ".py",
   "mimetype": "text/x-python",
   "name": "python",
   "nbconvert_exporter": "python",
   "pygments_lexer": "ipython3",
   "version": "3.9.13"
  },
  "orig_nbformat": 4,
  "vscode": {
   "interpreter": {
    "hash": "7bcd710fbd4ea1acdf099e434d8249442fd67c76d8603078029fa1b68023e7e1"
   }
  }
 },
 "nbformat": 4,
 "nbformat_minor": 2
}
